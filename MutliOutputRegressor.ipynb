{
 "cells": [
  {
   "cell_type": "code",
   "execution_count": 268,
   "id": "a16cd74a-c0ba-4a02-a001-a85ecc1edd89",
   "metadata": {},
   "outputs": [],
   "source": [
    "import numpy as np\n",
    "import pandas as pd"
   ]
  },
  {
   "cell_type": "code",
   "execution_count": 269,
   "id": "9bae3f1d-6322-417d-bb26-2813b1614f3d",
   "metadata": {},
   "outputs": [],
   "source": [
    "data = pd.read_csv('Crop_recommendation.csv')"
   ]
  },
  {
   "cell_type": "code",
   "execution_count": 270,
   "id": "5e594074-ebb7-4c72-b974-20ad2c7afa73",
   "metadata": {},
   "outputs": [
    {
     "data": {
      "text/html": [
       "<div>\n",
       "<style scoped>\n",
       "    .dataframe tbody tr th:only-of-type {\n",
       "        vertical-align: middle;\n",
       "    }\n",
       "\n",
       "    .dataframe tbody tr th {\n",
       "        vertical-align: top;\n",
       "    }\n",
       "\n",
       "    .dataframe thead th {\n",
       "        text-align: right;\n",
       "    }\n",
       "</style>\n",
       "<table border=\"1\" class=\"dataframe\">\n",
       "  <thead>\n",
       "    <tr style=\"text-align: right;\">\n",
       "      <th></th>\n",
       "      <th>N</th>\n",
       "      <th>P</th>\n",
       "      <th>K</th>\n",
       "      <th>temperature</th>\n",
       "      <th>humidity</th>\n",
       "      <th>ph</th>\n",
       "      <th>rainfall</th>\n",
       "      <th>label</th>\n",
       "    </tr>\n",
       "  </thead>\n",
       "  <tbody>\n",
       "    <tr>\n",
       "      <th>0</th>\n",
       "      <td>90</td>\n",
       "      <td>42</td>\n",
       "      <td>43</td>\n",
       "      <td>20.879744</td>\n",
       "      <td>82.002744</td>\n",
       "      <td>6.502985</td>\n",
       "      <td>202.935536</td>\n",
       "      <td>rice</td>\n",
       "    </tr>\n",
       "    <tr>\n",
       "      <th>1</th>\n",
       "      <td>85</td>\n",
       "      <td>58</td>\n",
       "      <td>41</td>\n",
       "      <td>21.770462</td>\n",
       "      <td>80.319644</td>\n",
       "      <td>7.038096</td>\n",
       "      <td>226.655537</td>\n",
       "      <td>rice</td>\n",
       "    </tr>\n",
       "    <tr>\n",
       "      <th>2</th>\n",
       "      <td>60</td>\n",
       "      <td>55</td>\n",
       "      <td>44</td>\n",
       "      <td>23.004459</td>\n",
       "      <td>82.320763</td>\n",
       "      <td>7.840207</td>\n",
       "      <td>263.964248</td>\n",
       "      <td>rice</td>\n",
       "    </tr>\n",
       "    <tr>\n",
       "      <th>3</th>\n",
       "      <td>74</td>\n",
       "      <td>35</td>\n",
       "      <td>40</td>\n",
       "      <td>26.491096</td>\n",
       "      <td>80.158363</td>\n",
       "      <td>6.980401</td>\n",
       "      <td>242.864034</td>\n",
       "      <td>rice</td>\n",
       "    </tr>\n",
       "    <tr>\n",
       "      <th>4</th>\n",
       "      <td>78</td>\n",
       "      <td>42</td>\n",
       "      <td>42</td>\n",
       "      <td>20.130175</td>\n",
       "      <td>81.604873</td>\n",
       "      <td>7.628473</td>\n",
       "      <td>262.717340</td>\n",
       "      <td>rice</td>\n",
       "    </tr>\n",
       "    <tr>\n",
       "      <th>...</th>\n",
       "      <td>...</td>\n",
       "      <td>...</td>\n",
       "      <td>...</td>\n",
       "      <td>...</td>\n",
       "      <td>...</td>\n",
       "      <td>...</td>\n",
       "      <td>...</td>\n",
       "      <td>...</td>\n",
       "    </tr>\n",
       "    <tr>\n",
       "      <th>2195</th>\n",
       "      <td>107</td>\n",
       "      <td>34</td>\n",
       "      <td>32</td>\n",
       "      <td>26.774637</td>\n",
       "      <td>66.413269</td>\n",
       "      <td>6.780064</td>\n",
       "      <td>177.774507</td>\n",
       "      <td>coffee</td>\n",
       "    </tr>\n",
       "    <tr>\n",
       "      <th>2196</th>\n",
       "      <td>99</td>\n",
       "      <td>15</td>\n",
       "      <td>27</td>\n",
       "      <td>27.417112</td>\n",
       "      <td>56.636362</td>\n",
       "      <td>6.086922</td>\n",
       "      <td>127.924610</td>\n",
       "      <td>coffee</td>\n",
       "    </tr>\n",
       "    <tr>\n",
       "      <th>2197</th>\n",
       "      <td>118</td>\n",
       "      <td>33</td>\n",
       "      <td>30</td>\n",
       "      <td>24.131797</td>\n",
       "      <td>67.225123</td>\n",
       "      <td>6.362608</td>\n",
       "      <td>173.322839</td>\n",
       "      <td>coffee</td>\n",
       "    </tr>\n",
       "    <tr>\n",
       "      <th>2198</th>\n",
       "      <td>117</td>\n",
       "      <td>32</td>\n",
       "      <td>34</td>\n",
       "      <td>26.272418</td>\n",
       "      <td>52.127394</td>\n",
       "      <td>6.758793</td>\n",
       "      <td>127.175293</td>\n",
       "      <td>coffee</td>\n",
       "    </tr>\n",
       "    <tr>\n",
       "      <th>2199</th>\n",
       "      <td>104</td>\n",
       "      <td>18</td>\n",
       "      <td>30</td>\n",
       "      <td>23.603016</td>\n",
       "      <td>60.396475</td>\n",
       "      <td>6.779833</td>\n",
       "      <td>140.937041</td>\n",
       "      <td>coffee</td>\n",
       "    </tr>\n",
       "  </tbody>\n",
       "</table>\n",
       "<p>2200 rows × 8 columns</p>\n",
       "</div>"
      ],
      "text/plain": [
       "        N   P   K  temperature   humidity        ph    rainfall   label\n",
       "0      90  42  43    20.879744  82.002744  6.502985  202.935536    rice\n",
       "1      85  58  41    21.770462  80.319644  7.038096  226.655537    rice\n",
       "2      60  55  44    23.004459  82.320763  7.840207  263.964248    rice\n",
       "3      74  35  40    26.491096  80.158363  6.980401  242.864034    rice\n",
       "4      78  42  42    20.130175  81.604873  7.628473  262.717340    rice\n",
       "...   ...  ..  ..          ...        ...       ...         ...     ...\n",
       "2195  107  34  32    26.774637  66.413269  6.780064  177.774507  coffee\n",
       "2196   99  15  27    27.417112  56.636362  6.086922  127.924610  coffee\n",
       "2197  118  33  30    24.131797  67.225123  6.362608  173.322839  coffee\n",
       "2198  117  32  34    26.272418  52.127394  6.758793  127.175293  coffee\n",
       "2199  104  18  30    23.603016  60.396475  6.779833  140.937041  coffee\n",
       "\n",
       "[2200 rows x 8 columns]"
      ]
     },
     "execution_count": 270,
     "metadata": {},
     "output_type": "execute_result"
    }
   ],
   "source": [
    "data"
   ]
  },
  {
   "cell_type": "code",
   "execution_count": 271,
   "id": "5bc9874a-335c-40df-bfa5-8f9f336efb99",
   "metadata": {},
   "outputs": [
    {
     "name": "stdout",
     "output_type": "stream",
     "text": [
      "The total number of crops that we can give a recommendation to is :  22\n"
     ]
    }
   ],
   "source": [
    "total_crops = data['label'].unique().shape\n",
    "print(\"The total number of crops that we can give a recommendation to is : \", total_crops[0])"
   ]
  },
  {
   "cell_type": "code",
   "execution_count": 272,
   "id": "c45b6866-11bf-4f38-8db9-c95414753fe6",
   "metadata": {},
   "outputs": [],
   "source": [
    "# Find a multi-output regressor"
   ]
  },
  {
   "cell_type": "code",
   "execution_count": 273,
   "id": "0d297e72-9ed1-4fa7-9841-67908309034d",
   "metadata": {},
   "outputs": [],
   "source": [
    "X = data[['ph','humidity','rainfall']]\n",
    "y = data['label']"
   ]
  },
  {
   "cell_type": "code",
   "execution_count": 274,
   "id": "7799d98d-f55e-434a-99a4-639b051211ec",
   "metadata": {},
   "outputs": [],
   "source": [
    "import matplotlib.pyplot as plt"
   ]
  },
  {
   "cell_type": "code",
   "execution_count": 275,
   "id": "6ab7029b-dc31-4ba6-86d0-3c571b95ffa2",
   "metadata": {},
   "outputs": [
    {
     "data": {
      "text/html": [
       "<div>\n",
       "<style scoped>\n",
       "    .dataframe tbody tr th:only-of-type {\n",
       "        vertical-align: middle;\n",
       "    }\n",
       "\n",
       "    .dataframe tbody tr th {\n",
       "        vertical-align: top;\n",
       "    }\n",
       "\n",
       "    .dataframe thead th {\n",
       "        text-align: right;\n",
       "    }\n",
       "</style>\n",
       "<table border=\"1\" class=\"dataframe\">\n",
       "  <thead>\n",
       "    <tr style=\"text-align: right;\">\n",
       "      <th></th>\n",
       "      <th>ph</th>\n",
       "      <th>humidity</th>\n",
       "      <th>rainfall</th>\n",
       "    </tr>\n",
       "  </thead>\n",
       "  <tbody>\n",
       "    <tr>\n",
       "      <th>0</th>\n",
       "      <td>6.502985</td>\n",
       "      <td>82.002744</td>\n",
       "      <td>202.935536</td>\n",
       "    </tr>\n",
       "    <tr>\n",
       "      <th>1</th>\n",
       "      <td>7.038096</td>\n",
       "      <td>80.319644</td>\n",
       "      <td>226.655537</td>\n",
       "    </tr>\n",
       "    <tr>\n",
       "      <th>2</th>\n",
       "      <td>7.840207</td>\n",
       "      <td>82.320763</td>\n",
       "      <td>263.964248</td>\n",
       "    </tr>\n",
       "    <tr>\n",
       "      <th>3</th>\n",
       "      <td>6.980401</td>\n",
       "      <td>80.158363</td>\n",
       "      <td>242.864034</td>\n",
       "    </tr>\n",
       "    <tr>\n",
       "      <th>4</th>\n",
       "      <td>7.628473</td>\n",
       "      <td>81.604873</td>\n",
       "      <td>262.717340</td>\n",
       "    </tr>\n",
       "    <tr>\n",
       "      <th>...</th>\n",
       "      <td>...</td>\n",
       "      <td>...</td>\n",
       "      <td>...</td>\n",
       "    </tr>\n",
       "    <tr>\n",
       "      <th>2195</th>\n",
       "      <td>6.780064</td>\n",
       "      <td>66.413269</td>\n",
       "      <td>177.774507</td>\n",
       "    </tr>\n",
       "    <tr>\n",
       "      <th>2196</th>\n",
       "      <td>6.086922</td>\n",
       "      <td>56.636362</td>\n",
       "      <td>127.924610</td>\n",
       "    </tr>\n",
       "    <tr>\n",
       "      <th>2197</th>\n",
       "      <td>6.362608</td>\n",
       "      <td>67.225123</td>\n",
       "      <td>173.322839</td>\n",
       "    </tr>\n",
       "    <tr>\n",
       "      <th>2198</th>\n",
       "      <td>6.758793</td>\n",
       "      <td>52.127394</td>\n",
       "      <td>127.175293</td>\n",
       "    </tr>\n",
       "    <tr>\n",
       "      <th>2199</th>\n",
       "      <td>6.779833</td>\n",
       "      <td>60.396475</td>\n",
       "      <td>140.937041</td>\n",
       "    </tr>\n",
       "  </tbody>\n",
       "</table>\n",
       "<p>2200 rows × 3 columns</p>\n",
       "</div>"
      ],
      "text/plain": [
       "            ph   humidity    rainfall\n",
       "0     6.502985  82.002744  202.935536\n",
       "1     7.038096  80.319644  226.655537\n",
       "2     7.840207  82.320763  263.964248\n",
       "3     6.980401  80.158363  242.864034\n",
       "4     7.628473  81.604873  262.717340\n",
       "...        ...        ...         ...\n",
       "2195  6.780064  66.413269  177.774507\n",
       "2196  6.086922  56.636362  127.924610\n",
       "2197  6.362608  67.225123  173.322839\n",
       "2198  6.758793  52.127394  127.175293\n",
       "2199  6.779833  60.396475  140.937041\n",
       "\n",
       "[2200 rows x 3 columns]"
      ]
     },
     "execution_count": 275,
     "metadata": {},
     "output_type": "execute_result"
    }
   ],
   "source": [
    "X"
   ]
  },
  {
   "cell_type": "code",
   "execution_count": 276,
   "id": "6b6f252d-ea2e-4a68-978e-24ac063eba87",
   "metadata": {},
   "outputs": [
    {
     "data": {
      "text/plain": [
       "array(['rice', 'maize', 'chickpea', 'kidneybeans', 'pigeonpeas',\n",
       "       'mothbeans', 'mungbean', 'blackgram', 'lentil', 'pomegranate',\n",
       "       'banana', 'mango', 'grapes', 'watermelon', 'muskmelon', 'apple',\n",
       "       'orange', 'papaya', 'coconut', 'cotton', 'jute', 'coffee'],\n",
       "      dtype=object)"
      ]
     },
     "execution_count": 276,
     "metadata": {},
     "output_type": "execute_result"
    }
   ],
   "source": [
    "unique_crops = y.unique()\n",
    "unique_crops"
   ]
  },
  {
   "cell_type": "code",
   "execution_count": 277,
   "id": "c31a2132-d757-4c5b-91fa-642b47eab8e4",
   "metadata": {},
   "outputs": [],
   "source": [
    "# Mapping the Crop to the -> value;"
   ]
  },
  {
   "cell_type": "code",
   "execution_count": 278,
   "id": "995c6947-4f13-4038-a432-6ba57214b5bd",
   "metadata": {},
   "outputs": [
    {
     "data": {
      "image/png": "[encoded data removed]",
      "text/plain": [
       "<Figure size 432x288 with 1 Axes>"
      ]
     },
     "metadata": {
      "needs_background": "light"
     },
     "output_type": "display_data"
    }
   ],
   "source": [
    "plt.plot(X,y)\n",
    "plt.title(\"Representing the Crops vs Rainfall required\")\n",
    "plt.show()"
   ]
  },
  {
   "cell_type": "code",
   "execution_count": 279,
   "id": "77a40e08-6c94-4a7a-ac46-efb0db2f1c7e",
   "metadata": {},
   "outputs": [],
   "source": [
    "X_label = data.iloc[:, :-1].values\n",
    "y_label = data.iloc[: , -1].values"
   ]
  },
  {
   "cell_type": "code",
   "execution_count": 280,
   "id": "4c2bc8ca-5de8-42cf-a679-471f5c76825a",
   "metadata": {},
   "outputs": [],
   "source": [
    "y_label = (y_label.reshape(y_label.shape[0],1))"
   ]
  },
  {
   "cell_type": "code",
   "execution_count": 281,
   "id": "de20e78d-23d5-496d-9dd0-4682b8996fa3",
   "metadata": {},
   "outputs": [],
   "source": [
    "#MultiOutput Regression\n",
    "from sklearn.model_selection import train_test_split\n",
    "from sklearn.multioutput import MultiOutputRegressor\n",
    "from sklearn.ensemble import RandomForestRegressor\n",
    "from sklearn.metrics import mean_squared_error"
   ]
  },
  {
   "cell_type": "code",
   "execution_count": 282,
   "id": "cb71e5d8-2d04-472b-a95a-f0499eafb0b3",
   "metadata": {},
   "outputs": [],
   "source": [
    "X_train, X_test, y_train, y_test = train_test_split(X_label, y_label, test_size=0.2, random_state=0)"
   ]
  },
  {
   "cell_type": "code",
   "execution_count": 283,
   "id": "3680b55d-c134-4bad-92e4-74765922b435",
   "metadata": {},
   "outputs": [
    {
     "data": {
      "text/plain": [
       "array([['apple'],\n",
       "       ['jute'],\n",
       "       ['jute'],\n",
       "       ...,\n",
       "       ['blackgram'],\n",
       "       ['lentil'],\n",
       "       ['orange']], dtype=object)"
      ]
     },
     "execution_count": 283,
     "metadata": {},
     "output_type": "execute_result"
    }
   ],
   "source": [
    "y_train"
   ]
  },
  {
   "cell_type": "code",
   "execution_count": 284,
   "id": "63026e9b-4e45-443c-b61e-10a14263c041",
   "metadata": {},
   "outputs": [],
   "source": [
    "categories = []\n",
    "\n",
    "for crop in y.unique():\n",
    "    categories.append(crop)\n",
    "    \n",
    "    \n",
    "from sklearn.preprocessing import OneHotEncoder\n",
    "\n",
    "encoder = OneHotEncoder(categories = 'auto',sparse=False)"
   ]
  },
  {
   "cell_type": "code",
   "execution_count": 285,
   "id": "5500e927-4f64-430d-b141-2b3e96a3581c",
   "metadata": {},
   "outputs": [
    {
     "name": "stderr",
     "output_type": "stream",
     "text": [
      "/opt/anaconda3/lib/python3.8/site-packages/sklearn/preprocessing/_encoders.py:975: FutureWarning: `sparse` was renamed to `sparse_output` in version 1.2 and will be removed in 1.4. `sparse_output` is ignored unless you leave `sparse` to its default value.\n",
      "  warnings.warn(\n"
     ]
    }
   ],
   "source": [
    "y_train = encoder.fit_transform(y_train)"
   ]
  },
  {
   "cell_type": "code",
   "execution_count": 286,
   "id": "c0cba74e-bd55-45e3-99c0-2f9987475bc7",
   "metadata": {},
   "outputs": [
    {
     "data": {
      "text/plain": [
       "array([[1., 0., 0., ..., 0., 0., 0.],\n",
       "       [0., 0., 0., ..., 0., 0., 0.],\n",
       "       [0., 0., 0., ..., 0., 0., 0.],\n",
       "       ...,\n",
       "       [0., 0., 1., ..., 0., 0., 0.],\n",
       "       [0., 0., 0., ..., 0., 0., 0.],\n",
       "       [0., 0., 0., ..., 0., 0., 0.]])"
      ]
     },
     "execution_count": 286,
     "metadata": {},
     "output_type": "execute_result"
    }
   ],
   "source": [
    "y_train"
   ]
  },
  {
   "cell_type": "code",
   "execution_count": 287,
   "id": "89aff1c7-b303-44e7-bca6-3fb59a5f7fe5",
   "metadata": {},
   "outputs": [
    {
     "data": {
      "text/plain": [
       "array([[1., 0., 0., ..., 0., 0., 0.],\n",
       "       [0., 0., 0., ..., 0., 0., 0.],\n",
       "       [0., 0., 0., ..., 0., 0., 0.],\n",
       "       ...,\n",
       "       [0., 0., 1., ..., 0., 0., 0.],\n",
       "       [0., 0., 0., ..., 0., 0., 0.],\n",
       "       [0., 0., 0., ..., 0., 0., 0.]])"
      ]
     },
     "execution_count": 287,
     "metadata": {},
     "output_type": "execute_result"
    }
   ],
   "source": [
    "y_train"
   ]
  },
  {
   "cell_type": "code",
   "execution_count": 288,
   "id": "b835600c-1157-4e9c-b680-a96804f55d24",
   "metadata": {},
   "outputs": [],
   "source": [
    "# for crop in y_train : \n",
    "#     print(crop)\n"
   ]
  },
  {
   "cell_type": "code",
   "execution_count": 289,
   "id": "6d99e722-4d63-45be-82ed-e8fbcc6070ae",
   "metadata": {},
   "outputs": [
    {
     "data": {
      "text/plain": [
       "array([[ 27.        , 120.        , 200.        , ...,  90.74531921,\n",
       "          6.11021883, 116.7036582 ],\n",
       "       [ 81.        ,  36.        ,  38.        , ...,  87.98329901,\n",
       "          6.33483786, 150.3166152 ],\n",
       "       [ 90.        ,  59.        ,  35.        , ...,  89.86454053,\n",
       "          7.09822793, 175.1742112 ],\n",
       "       ...,\n",
       "       [ 35.        ,  64.        ,  15.        , ...,  63.53604453,\n",
       "          6.50014496,  69.5274407 ],\n",
       "       [ 39.        ,  65.        ,  23.        , ...,  69.12613376,\n",
       "          7.6859593 ,  41.02682925],\n",
       "       [ 14.        ,  22.        ,   9.        , ...,  91.13772765,\n",
       "          6.54319181, 112.5090516 ]])"
      ]
     },
     "execution_count": 289,
     "metadata": {},
     "output_type": "execute_result"
    }
   ],
   "source": [
    "X_train"
   ]
  },
  {
   "cell_type": "code",
   "execution_count": 290,
   "id": "1e9c93a6-af92-4f94-b391-18891db343cf",
   "metadata": {},
   "outputs": [],
   "source": [
    "base_estimator = RandomForestRegressor(n_estimators=100, random_state=42)\n",
    "multioutput_regressor = MultiOutputRegressor(base_estimator)"
   ]
  },
  {
   "cell_type": "code",
   "execution_count": 291,
   "id": "a7200652-35d8-4e62-8667-f0d00d698368",
   "metadata": {},
   "outputs": [
    {
     "data": {
      "text/html": [
       "<style>#sk-container-id-9 {color: black;}#sk-container-id-9 pre{padding: 0;}#sk-container-id-9 div.sk-toggleable {background-color: white;}#sk-container-id-9 label.sk-toggleable__label {cursor: pointer;display: block;width: 100%;margin-bottom: 0;padding: 0.3em;box-sizing: border-box;text-align: center;}#sk-container-id-9 label.sk-toggleable__label-arrow:before {content: \"▸\";float: left;margin-right: 0.25em;color: #696969;}#sk-container-id-9 label.sk-toggleable__label-arrow:hover:before {color: black;}#sk-container-id-9 div.sk-estimator:hover label.sk-toggleable__label-arrow:before {color: black;}#sk-container-id-9 div.sk-toggleable__content {max-height: 0;max-width: 0;overflow: hidden;text-align: left;background-color: #f0f8ff;}#sk-container-id-9 div.sk-toggleable__content pre {margin: 0.2em;color: black;border-radius: 0.25em;background-color: #f0f8ff;}#sk-container-id-9 input.sk-toggleable__control:checked~div.sk-toggleable__content {max-height: 200px;max-width: 100%;overflow: auto;}#sk-container-id-9 input.sk-toggleable__control:checked~label.sk-toggleable__label-arrow:before {content: \"▾\";}#sk-container-id-9 div.sk-estimator input.sk-toggleable__control:checked~label.sk-toggleable__label {background-color: #d4ebff;}#sk-container-id-9 div.sk-label input.sk-toggleable__control:checked~label.sk-toggleable__label {background-color: #d4ebff;}#sk-container-id-9 input.sk-hidden--visually {border: 0;clip: rect(1px 1px 1px 1px);clip: rect(1px, 1px, 1px, 1px);height: 1px;margin: -1px;overflow: hidden;padding: 0;position: absolute;width: 1px;}#sk-container-id-9 div.sk-estimator {font-family: monospace;background-color: #f0f8ff;border: 1px dotted black;border-radius: 0.25em;box-sizing: border-box;margin-bottom: 0.5em;}#sk-container-id-9 div.sk-estimator:hover {background-color: #d4ebff;}#sk-container-id-9 div.sk-parallel-item::after {content: \"\";width: 100%;border-bottom: 1px solid gray;flex-grow: 1;}#sk-container-id-9 div.sk-label:hover label.sk-toggleable__label {background-color: #d4ebff;}#sk-container-id-9 div.sk-serial::before {content: \"\";position: absolute;border-left: 1px solid gray;box-sizing: border-box;top: 0;bottom: 0;left: 50%;z-index: 0;}#sk-container-id-9 div.sk-serial {display: flex;flex-direction: column;align-items: center;background-color: white;padding-right: 0.2em;padding-left: 0.2em;position: relative;}#sk-container-id-9 div.sk-item {position: relative;z-index: 1;}#sk-container-id-9 div.sk-parallel {display: flex;align-items: stretch;justify-content: center;background-color: white;position: relative;}#sk-container-id-9 div.sk-item::before, #sk-container-id-9 div.sk-parallel-item::before {content: \"\";position: absolute;border-left: 1px solid gray;box-sizing: border-box;top: 0;bottom: 0;left: 50%;z-index: -1;}#sk-container-id-9 div.sk-parallel-item {display: flex;flex-direction: column;z-index: 1;position: relative;background-color: white;}#sk-container-id-9 div.sk-parallel-item:first-child::after {align-self: flex-end;width: 50%;}#sk-container-id-9 div.sk-parallel-item:last-child::after {align-self: flex-start;width: 50%;}#sk-container-id-9 div.sk-parallel-item:only-child::after {width: 0;}#sk-container-id-9 div.sk-dashed-wrapped {border: 1px dashed gray;margin: 0 0.4em 0.5em 0.4em;box-sizing: border-box;padding-bottom: 0.4em;background-color: white;}#sk-container-id-9 div.sk-label label {font-family: monospace;font-weight: bold;display: inline-block;line-height: 1.2em;}#sk-container-id-9 div.sk-label-container {text-align: center;}#sk-container-id-9 div.sk-container {/* jupyter's `normalize.less` sets `[hidden] { display: none; }` but bootstrap.min.css set `[hidden] { display: none !important; }` so we also need the `!important` here to be able to override the default hidden behavior on the sphinx rendered scikit-learn.org. See: https://github.com/scikit-learn/scikit-learn/issues/21755 */display: inline-block !important;position: relative;}#sk-container-id-9 div.sk-text-repr-fallback {display: none;}</style><div id=\"sk-container-id-9\" class=\"sk-top-container\"><div class=\"sk-text-repr-fallback\"><pre>MultiOutputRegressor(estimator=RandomForestRegressor(random_state=42))</pre><b>In a Jupyter environment, please rerun this cell to show the HTML representation or trust the notebook. <br />On GitHub, the HTML representation is unable to render, please try loading this page with nbviewer.org.</b></div><div class=\"sk-container\" hidden><div class=\"sk-item sk-dashed-wrapped\"><div class=\"sk-label-container\"><div class=\"sk-label sk-toggleable\"><input class=\"sk-toggleable__control sk-hidden--visually\" id=\"sk-estimator-id-25\" type=\"checkbox\" ><label for=\"sk-estimator-id-25\" class=\"sk-toggleable__label sk-toggleable__label-arrow\">MultiOutputRegressor</label><div class=\"sk-toggleable__content\"><pre>MultiOutputRegressor(estimator=RandomForestRegressor(random_state=42))</pre></div></div></div><div class=\"sk-parallel\"><div class=\"sk-parallel-item\"><div class=\"sk-item\"><div class=\"sk-label-container\"><div class=\"sk-label sk-toggleable\"><input class=\"sk-toggleable__control sk-hidden--visually\" id=\"sk-estimator-id-26\" type=\"checkbox\" ><label for=\"sk-estimator-id-26\" class=\"sk-toggleable__label sk-toggleable__label-arrow\">estimator: RandomForestRegressor</label><div class=\"sk-toggleable__content\"><pre>RandomForestRegressor(random_state=42)</pre></div></div></div><div class=\"sk-serial\"><div class=\"sk-item\"><div class=\"sk-estimator sk-toggleable\"><input class=\"sk-toggleable__control sk-hidden--visually\" id=\"sk-estimator-id-27\" type=\"checkbox\" ><label for=\"sk-estimator-id-27\" class=\"sk-toggleable__label sk-toggleable__label-arrow\">RandomForestRegressor</label><div class=\"sk-toggleable__content\"><pre>RandomForestRegressor(random_state=42)</pre></div></div></div></div></div></div></div></div></div></div>"
      ],
      "text/plain": [
       "MultiOutputRegressor(estimator=RandomForestRegressor(random_state=42))"
      ]
     },
     "execution_count": 291,
     "metadata": {},
     "output_type": "execute_result"
    }
   ],
   "source": [
    "multioutput_regressor.fit(X_train, y_train)"
   ]
  },
  {
   "cell_type": "code",
   "execution_count": 292,
   "id": "ecc0faf2-d948-48a8-a3fc-b1a9c240de34",
   "metadata": {},
   "outputs": [
    {
     "name": "stderr",
     "output_type": "stream",
     "text": [
      "/opt/anaconda3/lib/python3.8/site-packages/sklearn/preprocessing/_encoders.py:975: FutureWarning: `sparse` was renamed to `sparse_output` in version 1.2 and will be removed in 1.4. `sparse_output` is ignored unless you leave `sparse` to its default value.\n",
      "  warnings.warn(\n"
     ]
    }
   ],
   "source": [
    "y_test = encoder.fit_transform(y_test)"
   ]
  },
  {
   "cell_type": "code",
   "execution_count": 293,
   "id": "eb318cee-b079-4cb6-9717-ae48d32a26b0",
   "metadata": {},
   "outputs": [],
   "source": [
    "predictions = multioutput_regressor.predict(X_test)"
   ]
  },
  {
   "cell_type": "code",
   "execution_count": 294,
   "id": "9d5fd639-5fb2-493e-bb85-951ede85d674",
   "metadata": {},
   "outputs": [
    {
     "name": "stdout",
     "output_type": "stream",
     "text": [
      "[[0.   0.   0.   ... 0.   0.   0.9 ]\n",
      " [0.   0.   0.   ... 0.   0.   1.  ]\n",
      " [0.   0.   0.   ... 0.   0.   0.  ]\n",
      " ...\n",
      " [0.   0.   0.01 ... 0.   0.   0.  ]\n",
      " [0.   0.   1.   ... 0.   0.   0.  ]\n",
      " [1.   0.   0.   ... 0.   0.   0.  ]]\n"
     ]
    }
   ],
   "source": [
    "print(predictions)"
   ]
  },
  {
   "cell_type": "code",
   "execution_count": 295,
   "id": "91290850-562f-4d80-9bff-e4810260d4c8",
   "metadata": {},
   "outputs": [],
   "source": [
    "predicted_crops = encoder.inverse_transform(predictions)\n"
   ]
  },
  {
   "cell_type": "code",
   "execution_count": 296,
   "id": "ec6f2d88-f3a1-4409-85be-bc42e36111af",
   "metadata": {},
   "outputs": [
    {
     "name": "stdout",
     "output_type": "stream",
     "text": [
      "[['watermelon']\n",
      " ['watermelon']\n",
      " ['grapes']\n",
      " ['chickpea']\n",
      " ['blackgram']\n",
      " ['rice']\n",
      " ['mothbeans']\n",
      " ['kidneybeans']\n",
      " ['muskmelon']\n",
      " ['banana']\n",
      " ['mothbeans']\n",
      " ['coffee']\n",
      " ['lentil']\n",
      " ['mungbean']\n",
      " ['mango']\n",
      " ['apple']\n",
      " ['coffee']\n",
      " ['lentil']\n",
      " ['coffee']\n",
      " ['mango']\n",
      " ['coconut']\n",
      " ['blackgram']\n",
      " ['kidneybeans']\n",
      " ['jute']\n",
      " ['cotton']\n",
      " ['coffee']\n",
      " ['lentil']\n",
      " ['orange']\n",
      " ['mothbeans']\n",
      " ['kidneybeans']\n",
      " ['pomegranate']\n",
      " ['rice']\n",
      " ['maize']\n",
      " ['muskmelon']\n",
      " ['coconut']\n",
      " ['cotton']\n",
      " ['mango']\n",
      " ['mango']\n",
      " ['watermelon']\n",
      " ['mothbeans']\n",
      " ['maize']\n",
      " ['blackgram']\n",
      " ['pigeonpeas']\n",
      " ['watermelon']\n",
      " ['pigeonpeas']\n",
      " ['mungbean']\n",
      " ['kidneybeans']\n",
      " ['kidneybeans']\n",
      " ['cotton']\n",
      " ['mungbean']\n",
      " ['mothbeans']\n",
      " ['blackgram']\n",
      " ['apple']\n",
      " ['muskmelon']\n",
      " ['pigeonpeas']\n",
      " ['banana']\n",
      " ['papaya']\n",
      " ['mango']\n",
      " ['lentil']\n",
      " ['cotton']\n",
      " ['orange']\n",
      " ['mungbean']\n",
      " ['watermelon']\n",
      " ['rice']\n",
      " ['muskmelon']\n",
      " ['apple']\n",
      " ['grapes']\n",
      " ['coffee']\n",
      " ['apple']\n",
      " ['orange']\n",
      " ['coconut']\n",
      " ['pomegranate']\n",
      " ['kidneybeans']\n",
      " ['maize']\n",
      " ['grapes']\n",
      " ['mothbeans']\n",
      " ['chickpea']\n",
      " ['maize']\n",
      " ['jute']\n",
      " ['mango']\n",
      " ['rice']\n",
      " ['blackgram']\n",
      " ['watermelon']\n",
      " ['watermelon']\n",
      " ['muskmelon']\n",
      " ['cotton']\n",
      " ['maize']\n",
      " ['lentil']\n",
      " ['mothbeans']\n",
      " ['papaya']\n",
      " ['blackgram']\n",
      " ['jute']\n",
      " ['mungbean']\n",
      " ['grapes']\n",
      " ['mungbean']\n",
      " ['maize']\n",
      " ['coffee']\n",
      " ['jute']\n",
      " ['lentil']\n",
      " ['chickpea']\n",
      " ['orange']\n",
      " ['jute']\n",
      " ['mungbean']\n",
      " ['banana']\n",
      " ['banana']\n",
      " ['rice']\n",
      " ['watermelon']\n",
      " ['coffee']\n",
      " ['pigeonpeas']\n",
      " ['muskmelon']\n",
      " ['muskmelon']\n",
      " ['mango']\n",
      " ['coffee']\n",
      " ['grapes']\n",
      " ['orange']\n",
      " ['pomegranate']\n",
      " ['mungbean']\n",
      " ['lentil']\n",
      " ['maize']\n",
      " ['jute']\n",
      " ['pomegranate']\n",
      " ['lentil']\n",
      " ['orange']\n",
      " ['chickpea']\n",
      " ['chickpea']\n",
      " ['blackgram']\n",
      " ['pomegranate']\n",
      " ['orange']\n",
      " ['chickpea']\n",
      " ['papaya']\n",
      " ['mothbeans']\n",
      " ['mothbeans']\n",
      " ['muskmelon']\n",
      " ['mungbean']\n",
      " ['maize']\n",
      " ['mungbean']\n",
      " ['coconut']\n",
      " ['pomegranate']\n",
      " ['orange']\n",
      " ['blackgram']\n",
      " ['blackgram']\n",
      " ['grapes']\n",
      " ['apple']\n",
      " ['coffee']\n",
      " ['chickpea']\n",
      " ['apple']\n",
      " ['jute']\n",
      " ['mango']\n",
      " ['watermelon']\n",
      " ['papaya']\n",
      " ['orange']\n",
      " ['coconut']\n",
      " ['mothbeans']\n",
      " ['banana']\n",
      " ['pomegranate']\n",
      " ['chickpea']\n",
      " ['watermelon']\n",
      " ['blackgram']\n",
      " ['apple']\n",
      " ['jute']\n",
      " ['lentil']\n",
      " ['pigeonpeas']\n",
      " ['jute']\n",
      " ['kidneybeans']\n",
      " ['kidneybeans']\n",
      " ['muskmelon']\n",
      " ['rice']\n",
      " ['muskmelon']\n",
      " ['banana']\n",
      " ['orange']\n",
      " ['pigeonpeas']\n",
      " ['apple']\n",
      " ['mothbeans']\n",
      " ['coconut']\n",
      " ['cotton']\n",
      " ['mungbean']\n",
      " ['kidneybeans']\n",
      " ['pomegranate']\n",
      " ['papaya']\n",
      " ['orange']\n",
      " ['rice']\n",
      " ['papaya']\n",
      " ['papaya']\n",
      " ['pigeonpeas']\n",
      " ['kidneybeans']\n",
      " ['banana']\n",
      " ['coconut']\n",
      " ['pigeonpeas']\n",
      " ['rice']\n",
      " ['papaya']\n",
      " ['maize']\n",
      " ['jute']\n",
      " ['mothbeans']\n",
      " ['rice']\n",
      " ['maize']\n",
      " ['coffee']\n",
      " ['pigeonpeas']\n",
      " ['coconut']\n",
      " ['chickpea']\n",
      " ['mango']\n",
      " ['coconut']\n",
      " ['pomegranate']\n",
      " ['maize']\n",
      " ['mothbeans']\n",
      " ['mothbeans']\n",
      " ['orange']\n",
      " ['muskmelon']\n",
      " ['maize']\n",
      " ['pigeonpeas']\n",
      " ['banana']\n",
      " ['chickpea']\n",
      " ['blackgram']\n",
      " ['pigeonpeas']\n",
      " ['orange']\n",
      " ['mothbeans']\n",
      " ['mungbean']\n",
      " ['mango']\n",
      " ['papaya']\n",
      " ['muskmelon']\n",
      " ['pomegranate']\n",
      " ['jute']\n",
      " ['rice']\n",
      " ['blackgram']\n",
      " ['papaya']\n",
      " ['blackgram']\n",
      " ['coffee']\n",
      " ['maize']\n",
      " ['coffee']\n",
      " ['orange']\n",
      " ['rice']\n",
      " ['mothbeans']\n",
      " ['mungbean']\n",
      " ['orange']\n",
      " ['kidneybeans']\n",
      " ['pomegranate']\n",
      " ['coconut']\n",
      " ['mango']\n",
      " ['mungbean']\n",
      " ['cotton']\n",
      " ['rice']\n",
      " ['chickpea']\n",
      " ['mungbean']\n",
      " ['apple']\n",
      " ['pigeonpeas']\n",
      " ['blackgram']\n",
      " ['rice']\n",
      " ['watermelon']\n",
      " ['blackgram']\n",
      " ['pomegranate']\n",
      " ['orange']\n",
      " ['maize']\n",
      " ['grapes']\n",
      " ['chickpea']\n",
      " ['pigeonpeas']\n",
      " ['jute']\n",
      " ['papaya']\n",
      " ['pomegranate']\n",
      " ['coffee']\n",
      " ['mango']\n",
      " ['mothbeans']\n",
      " ['jute']\n",
      " ['watermelon']\n",
      " ['pomegranate']\n",
      " ['rice']\n",
      " ['grapes']\n",
      " ['coconut']\n",
      " ['jute']\n",
      " ['lentil']\n",
      " ['chickpea']\n",
      " ['coffee']\n",
      " ['coffee']\n",
      " ['papaya']\n",
      " ['pomegranate']\n",
      " ['maize']\n",
      " ['rice']\n",
      " ['chickpea']\n",
      " ['pigeonpeas']\n",
      " ['orange']\n",
      " ['pomegranate']\n",
      " ['pigeonpeas']\n",
      " ['coconut']\n",
      " ['kidneybeans']\n",
      " ['pomegranate']\n",
      " ['muskmelon']\n",
      " ['mothbeans']\n",
      " ['mango']\n",
      " ['lentil']\n",
      " ['banana']\n",
      " ['blackgram']\n",
      " ['mango']\n",
      " ['kidneybeans']\n",
      " ['mango']\n",
      " ['cotton']\n",
      " ['mungbean']\n",
      " ['papaya']\n",
      " ['grapes']\n",
      " ['grapes']\n",
      " ['pigeonpeas']\n",
      " ['papaya']\n",
      " ['jute']\n",
      " ['rice']\n",
      " ['chickpea']\n",
      " ['muskmelon']\n",
      " ['coffee']\n",
      " ['watermelon']\n",
      " ['rice']\n",
      " ['jute']\n",
      " ['papaya']\n",
      " ['grapes']\n",
      " ['muskmelon']\n",
      " ['blackgram']\n",
      " ['mothbeans']\n",
      " ['mothbeans']\n",
      " ['chickpea']\n",
      " ['blackgram']\n",
      " ['mango']\n",
      " ['banana']\n",
      " ['mango']\n",
      " ['pomegranate']\n",
      " ['jute']\n",
      " ['orange']\n",
      " ['muskmelon']\n",
      " ['chickpea']\n",
      " ['lentil']\n",
      " ['cotton']\n",
      " ['papaya']\n",
      " ['grapes']\n",
      " ['kidneybeans']\n",
      " ['lentil']\n",
      " ['apple']\n",
      " ['rice']\n",
      " ['muskmelon']\n",
      " ['apple']\n",
      " ['papaya']\n",
      " ['blackgram']\n",
      " ['jute']\n",
      " ['chickpea']\n",
      " ['mothbeans']\n",
      " ['lentil']\n",
      " ['grapes']\n",
      " ['jute']\n",
      " ['kidneybeans']\n",
      " ['muskmelon']\n",
      " ['papaya']\n",
      " ['grapes']\n",
      " ['papaya']\n",
      " ['rice']\n",
      " ['coffee']\n",
      " ['muskmelon']\n",
      " ['mothbeans']\n",
      " ['banana']\n",
      " ['papaya']\n",
      " ['orange']\n",
      " ['kidneybeans']\n",
      " ['watermelon']\n",
      " ['pigeonpeas']\n",
      " ['apple']\n",
      " ['watermelon']\n",
      " ['watermelon']\n",
      " ['pigeonpeas']\n",
      " ['kidneybeans']\n",
      " ['mothbeans']\n",
      " ['kidneybeans']\n",
      " ['jute']\n",
      " ['coconut']\n",
      " ['cotton']\n",
      " ['kidneybeans']\n",
      " ['orange']\n",
      " ['cotton']\n",
      " ['pigeonpeas']\n",
      " ['pomegranate']\n",
      " ['cotton']\n",
      " ['cotton']\n",
      " ['apple']\n",
      " ['cotton']\n",
      " ['apple']\n",
      " ['orange']\n",
      " ['maize']\n",
      " ['grapes']\n",
      " ['banana']\n",
      " ['apple']\n",
      " ['mothbeans']\n",
      " ['rice']\n",
      " ['kidneybeans']\n",
      " ['banana']\n",
      " ['rice']\n",
      " ['lentil']\n",
      " ['chickpea']\n",
      " ['pomegranate']\n",
      " ['banana']\n",
      " ['chickpea']\n",
      " ['muskmelon']\n",
      " ['pomegranate']\n",
      " ['apple']\n",
      " ['lentil']\n",
      " ['muskmelon']\n",
      " ['orange']\n",
      " ['blackgram']\n",
      " ['muskmelon']\n",
      " ['mothbeans']\n",
      " ['mango']\n",
      " ['chickpea']\n",
      " ['pomegranate']\n",
      " ['mango']\n",
      " ['chickpea']\n",
      " ['coconut']\n",
      " ['muskmelon']\n",
      " ['banana']\n",
      " ['pigeonpeas']\n",
      " ['papaya']\n",
      " ['jute']\n",
      " ['mothbeans']\n",
      " ['cotton']\n",
      " ['rice']\n",
      " ['banana']\n",
      " ['coconut']\n",
      " ['rice']\n",
      " ['blackgram']\n",
      " ['maize']\n",
      " ['orange']\n",
      " ['watermelon']\n",
      " ['rice']\n",
      " ['apple']\n",
      " ['grapes']\n",
      " ['pigeonpeas']\n",
      " ['grapes']\n",
      " ['chickpea']\n",
      " ['mango']\n",
      " ['jute']\n",
      " ['pomegranate']\n",
      " ['maize']\n",
      " ['mango']\n",
      " ['grapes']\n",
      " ['banana']\n",
      " ['mungbean']\n",
      " ['pigeonpeas']\n",
      " ['banana']\n",
      " ['cotton']\n",
      " ['blackgram']\n",
      " ['apple']]\n"
     ]
    }
   ],
   "source": [
    "print(predicted_crops)"
   ]
  },
  {
   "cell_type": "code",
   "execution_count": 304,
   "id": "1dfcc93c-f579-45b4-a70d-b6e7e0879abe",
   "metadata": {},
   "outputs": [],
   "source": [
    "new_input = [[65,48,46,23,64,400,250]]\n",
    "\n",
    "\n",
    "\n",
    "ans = multioutput_regressor.predict(new_input).flatten()"
   ]
  },
  {
   "cell_type": "code",
   "execution_count": 305,
   "id": "226cae49-ae21-4c02-819a-2963daca9fad",
   "metadata": {},
   "outputs": [
    {
     "name": "stdout",
     "output_type": "stream",
     "text": [
      "[0.   0.   0.01 0.   0.   0.17 0.   0.   0.31 0.   0.   0.   0.   0.68\n",
      " 0.   0.   0.   0.04 0.3  0.   0.95 0.  ]\n"
     ]
    }
   ],
   "source": [
    "print(ans)"
   ]
  },
  {
   "cell_type": "code",
   "execution_count": 306,
   "id": "7ee303a8-2486-4b38-a8ea-221d5607c757",
   "metadata": {},
   "outputs": [
    {
     "ename": "ValueError",
     "evalue": "Expected 2D array, got 1D array instead:\narray=[0.   0.   0.01 0.   0.   0.17 0.   0.   0.31 0.   0.   0.   0.   0.68\n 0.   0.   0.   0.04 0.3  0.   0.95 0.  ].\nReshape your data either using array.reshape(-1, 1) if your data has a single feature or array.reshape(1, -1) if it contains a single sample.",
     "output_type": "error",
     "traceback": [
      "\u001b[0;31m---------------------------------------------------------------------------\u001b[0m",
      "\u001b[0;31mValueError\u001b[0m                                Traceback (most recent call last)",
      "\u001b[0;32m<ipython-input-306-58cf1cbb49a6>\u001b[0m in \u001b[0;36m<module>\u001b[0;34m\u001b[0m\n\u001b[0;32m----> 1\u001b[0;31m \u001b[0mans\u001b[0m \u001b[0;34m=\u001b[0m \u001b[0mencoder\u001b[0m\u001b[0;34m.\u001b[0m\u001b[0minverse_transform\u001b[0m\u001b[0;34m(\u001b[0m\u001b[0mans\u001b[0m\u001b[0;34m)\u001b[0m\u001b[0;34m\u001b[0m\u001b[0;34m\u001b[0m\u001b[0m\n\u001b[0m",
      "\u001b[0;32m/opt/anaconda3/lib/python3.8/site-packages/sklearn/preprocessing/_encoders.py\u001b[0m in \u001b[0;36minverse_transform\u001b[0;34m(self, X)\u001b[0m\n\u001b[1;32m   1093\u001b[0m         \"\"\"\n\u001b[1;32m   1094\u001b[0m         \u001b[0mcheck_is_fitted\u001b[0m\u001b[0;34m(\u001b[0m\u001b[0mself\u001b[0m\u001b[0;34m)\u001b[0m\u001b[0;34m\u001b[0m\u001b[0;34m\u001b[0m\u001b[0m\n\u001b[0;32m-> 1095\u001b[0;31m         \u001b[0mX\u001b[0m \u001b[0;34m=\u001b[0m \u001b[0mcheck_array\u001b[0m\u001b[0;34m(\u001b[0m\u001b[0mX\u001b[0m\u001b[0;34m,\u001b[0m \u001b[0maccept_sparse\u001b[0m\u001b[0;34m=\u001b[0m\u001b[0;34m\"csr\"\u001b[0m\u001b[0;34m)\u001b[0m\u001b[0;34m\u001b[0m\u001b[0;34m\u001b[0m\u001b[0m\n\u001b[0m\u001b[1;32m   1096\u001b[0m \u001b[0;34m\u001b[0m\u001b[0m\n\u001b[1;32m   1097\u001b[0m         \u001b[0mn_samples\u001b[0m\u001b[0;34m,\u001b[0m \u001b[0m_\u001b[0m \u001b[0;34m=\u001b[0m \u001b[0mX\u001b[0m\u001b[0;34m.\u001b[0m\u001b[0mshape\u001b[0m\u001b[0;34m\u001b[0m\u001b[0;34m\u001b[0m\u001b[0m\n",
      "\u001b[0;32m/opt/anaconda3/lib/python3.8/site-packages/sklearn/utils/validation.py\u001b[0m in \u001b[0;36mcheck_array\u001b[0;34m(array, accept_sparse, accept_large_sparse, dtype, order, copy, force_all_finite, ensure_2d, allow_nd, ensure_min_samples, ensure_min_features, estimator, input_name)\u001b[0m\n\u001b[1;32m    936\u001b[0m             \u001b[0;31m# If input is 1D raise error\u001b[0m\u001b[0;34m\u001b[0m\u001b[0;34m\u001b[0m\u001b[0;34m\u001b[0m\u001b[0m\n\u001b[1;32m    937\u001b[0m             \u001b[0;32mif\u001b[0m \u001b[0marray\u001b[0m\u001b[0;34m.\u001b[0m\u001b[0mndim\u001b[0m \u001b[0;34m==\u001b[0m \u001b[0;36m1\u001b[0m\u001b[0;34m:\u001b[0m\u001b[0;34m\u001b[0m\u001b[0;34m\u001b[0m\u001b[0m\n\u001b[0;32m--> 938\u001b[0;31m                 raise ValueError(\n\u001b[0m\u001b[1;32m    939\u001b[0m                     \u001b[0;34m\"Expected 2D array, got 1D array instead:\\narray={}.\\n\"\u001b[0m\u001b[0;34m\u001b[0m\u001b[0;34m\u001b[0m\u001b[0m\n\u001b[1;32m    940\u001b[0m                     \u001b[0;34m\"Reshape your data either using array.reshape(-1, 1) if \"\u001b[0m\u001b[0;34m\u001b[0m\u001b[0;34m\u001b[0m\u001b[0m\n",
      "\u001b[0;31mValueError\u001b[0m: Expected 2D array, got 1D array instead:\narray=[0.   0.   0.01 0.   0.   0.17 0.   0.   0.31 0.   0.   0.   0.   0.68\n 0.   0.   0.   0.04 0.3  0.   0.95 0.  ].\nReshape your data either using array.reshape(-1, 1) if your data has a single feature or array.reshape(1, -1) if it contains a single sample."
     ]
    }
   ],
   "source": [
    "ans = encoder.inverse_transform(ans)"
   ]
  },
  {
   "cell_type": "code",
   "execution_count": null,
   "id": "2142e60c-506a-4f2c-917a-02415c56b726",
   "metadata": {},
   "outputs": [],
   "source": [
    "ans"
   ]
  },
  {
   "cell_type": "code",
   "execution_count": null,
   "id": "3994466e-b20e-407f-9851-3150a580f9f5",
   "metadata": {},
   "outputs": [],
   "source": []
  }
 ],
 "metadata": {
  "kernelspec": {
   "display_name": "Python 3",
   "language": "python",
   "name": "python3"
  },
  "language_info": {
   "codemirror_mode": {
    "name": "ipython",
    "version": 3
   },
   "file_extension": ".py",
   "mimetype": "text/x-python",
   "name": "python",
   "nbconvert_exporter": "python",
   "pygments_lexer": "ipython3",
   "version": "3.8.8"
  }
 },
 "nbformat": 4,
 "nbformat_minor": 5
}
